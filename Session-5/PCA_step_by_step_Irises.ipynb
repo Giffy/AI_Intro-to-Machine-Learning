{
  "nbformat": 4,
  "nbformat_minor": 0,
  "metadata": {
    "colab": {
      "name": "PCA step by step - Irises.ipynb",
      "provenance": [],
      "collapsed_sections": [],
      "authorship_tag": "ABX9TyOLWaA6m1vm/+eBwKjMY4pL",
      "include_colab_link": true
    },
    "kernelspec": {
      "name": "python3",
      "display_name": "Python 3"
    }
  },
  "cells": [
    {
      "cell_type": "markdown",
      "metadata": {
        "id": "view-in-github",
        "colab_type": "text"
      },
      "source": [
        "<a href=\"https://colab.research.google.com/github/Giffy/AI_Intro-to-Machine-Learning/blob/master/Session-5/PCA_step_by_step_Irises.ipynb\" target=\"_parent\"><img src=\"https://colab.research.google.com/assets/colab-badge.svg\" alt=\"Open In Colab\"/></a>"
      ]
    },
    {
      "cell_type": "markdown",
      "metadata": {
        "id": "E-uTQdDn4BIv",
        "colab_type": "text"
      },
      "source": [
        "**Principal component analysis (PCA)** is a dimension reduction technique that enables to identify correlations and patterns in a dataset so it can be transformed into a dataset of significant lower dimensions and keeping the most relevant information.\n",
        "\n",
        "This notebook explains the key steps of PCA "
      ]
    },
    {
      "cell_type": "code",
      "metadata": {
        "id": "NcDILEPl73Th",
        "colab_type": "code",
        "colab": {}
      },
      "source": [
        "import numpy as np\n",
        "import pandas as pd\n",
        "from sklearn.preprocessing import StandardScaler\n",
        "from sklearn.decomposition import PCA\n",
        "import seaborn as sns\n",
        "import matplotlib.pyplot as plt\n",
        "%matplotlib inline"
      ],
      "execution_count": 0,
      "outputs": []
    },
    {
      "cell_type": "markdown",
      "metadata": {
        "id": "jtIG7z0KKCxj",
        "colab_type": "text"
      },
      "source": [
        "# Dataset preparation"
      ]
    },
    {
      "cell_type": "markdown",
      "metadata": {
        "id": "B01BjK3PJj26",
        "colab_type": "text"
      },
      "source": [
        "Loading and analyzing the iris flowers dataset."
      ]
    },
    {
      "cell_type": "code",
      "metadata": {
        "id": "nf2O49DXI-TT",
        "colab_type": "code",
        "outputId": "41f6f38d-b814-4543-a8bb-5c1f22a4c6a5",
        "colab": {
          "base_uri": "https://localhost:8080/",
          "height": 206
        }
      },
      "source": [
        "iris_dataset = pd.read_csv('https://raw.githubusercontent.com/Giffy/AI_Intro-to-Machine-Learning/master/Session-5/Datasets/iris.data.zip', header=None)\n",
        "iris_dataset.columns=['sepal length (cm)', 'sepal width (cm)', 'petal length (cm)', 'petal width (cm)', 'label']\n",
        "iris_dataset.head()"
      ],
      "execution_count": 124,
      "outputs": [
        {
          "output_type": "execute_result",
          "data": {
            "text/html": [
              "<div>\n",
              "<style scoped>\n",
              "    .dataframe tbody tr th:only-of-type {\n",
              "        vertical-align: middle;\n",
              "    }\n",
              "\n",
              "    .dataframe tbody tr th {\n",
              "        vertical-align: top;\n",
              "    }\n",
              "\n",
              "    .dataframe thead th {\n",
              "        text-align: right;\n",
              "    }\n",
              "</style>\n",
              "<table border=\"1\" class=\"dataframe\">\n",
              "  <thead>\n",
              "    <tr style=\"text-align: right;\">\n",
              "      <th></th>\n",
              "      <th>sepal length (cm)</th>\n",
              "      <th>sepal width (cm)</th>\n",
              "      <th>petal length (cm)</th>\n",
              "      <th>petal width (cm)</th>\n",
              "      <th>label</th>\n",
              "    </tr>\n",
              "  </thead>\n",
              "  <tbody>\n",
              "    <tr>\n",
              "      <th>0</th>\n",
              "      <td>5.1</td>\n",
              "      <td>3.5</td>\n",
              "      <td>1.4</td>\n",
              "      <td>0.2</td>\n",
              "      <td>setosa</td>\n",
              "    </tr>\n",
              "    <tr>\n",
              "      <th>1</th>\n",
              "      <td>4.9</td>\n",
              "      <td>3.0</td>\n",
              "      <td>1.4</td>\n",
              "      <td>0.2</td>\n",
              "      <td>setosa</td>\n",
              "    </tr>\n",
              "    <tr>\n",
              "      <th>2</th>\n",
              "      <td>4.7</td>\n",
              "      <td>3.2</td>\n",
              "      <td>1.3</td>\n",
              "      <td>0.2</td>\n",
              "      <td>setosa</td>\n",
              "    </tr>\n",
              "    <tr>\n",
              "      <th>3</th>\n",
              "      <td>4.6</td>\n",
              "      <td>3.1</td>\n",
              "      <td>1.5</td>\n",
              "      <td>0.2</td>\n",
              "      <td>setosa</td>\n",
              "    </tr>\n",
              "    <tr>\n",
              "      <th>4</th>\n",
              "      <td>5.0</td>\n",
              "      <td>3.6</td>\n",
              "      <td>1.4</td>\n",
              "      <td>0.2</td>\n",
              "      <td>setosa</td>\n",
              "    </tr>\n",
              "  </tbody>\n",
              "</table>\n",
              "</div>"
            ],
            "text/plain": [
              "   sepal length (cm)  sepal width (cm)  ...  petal width (cm)   label\n",
              "0                5.1               3.5  ...               0.2  setosa\n",
              "1                4.9               3.0  ...               0.2  setosa\n",
              "2                4.7               3.2  ...               0.2  setosa\n",
              "3                4.6               3.1  ...               0.2  setosa\n",
              "4                5.0               3.6  ...               0.2  setosa\n",
              "\n",
              "[5 rows x 5 columns]"
            ]
          },
          "metadata": {
            "tags": []
          },
          "execution_count": 124
        }
      ]
    },
    {
      "cell_type": "code",
      "metadata": {
        "id": "HavrI6nbrXeP",
        "colab_type": "code",
        "colab": {
          "base_uri": "https://localhost:8080/",
          "height": 297
        },
        "outputId": "8aaed4fe-394e-455c-8c3f-f681b4d90edd"
      },
      "source": [
        "with plt.style.context('seaborn-whitegrid'):\n",
        "  plt.figure()\n",
        "  plt.scatter(iris_dataset.iloc[:,0],iris_dataset.iloc[:,1])\n",
        "  plt.ylim(ymin=-1)\n",
        "  plt.xlim(xmin=-1)\n",
        "  plt.axhline(linewidth=4, color='r')\n",
        "  plt.axvline(linewidth=4, color='r')\n",
        "  plt.tight_layout()\n",
        "  plt.show()"
      ],
      "execution_count": 125,
      "outputs": [
        {
          "output_type": "display_data",
          "data": {
            "image/png": "[encoded data removed]",
            "text/plain": [
              "<Figure size 432x288 with 1 Axes>"
            ]
          },
          "metadata": {
            "tags": []
          }
        }
      ]
    },
    {
      "cell_type": "markdown",
      "metadata": {
        "id": "EsFc2AkhMPeX",
        "colab_type": "text"
      },
      "source": [
        "# Principal Component Analysis (step by step)"
      ]
    },
    {
      "cell_type": "markdown",
      "metadata": {
        "id": "gByvH6-5Mc8d",
        "colab_type": "text"
      },
      "source": [
        "\n",
        "### 1 Standardize the data\n",
        "We need to standatize the data because the PCA's output is influenced based on the scale of the features of the data."
      ]
    },
    {
      "cell_type": "code",
      "metadata": {
        "id": "TfEEASmFLxbi",
        "colab_type": "code",
        "colab": {}
      },
      "source": [
        "features = iris_dataset.columns.to_list()[:4]\n",
        "x = iris_dataset.loc[:, features]\n",
        "x = x[:].replace(np.nan,0 , regex=True)                         # Replaces all null values to 0, if any\n",
        "x = x.values                         \n",
        "x_std = StandardScaler().fit_transform(x)                       # Performs standarization of the dataset"
      ],
      "execution_count": 0,
      "outputs": []
    },
    {
      "cell_type": "code",
      "metadata": {
        "id": "FrZ9IyIjMhXv",
        "colab_type": "code",
        "outputId": "810555c5-d7c1-471a-967d-4661116c20bb",
        "colab": {
          "base_uri": "https://localhost:8080/",
          "height": 34
        }
      },
      "source": [
        "x_std.shape"
      ],
      "execution_count": 127,
      "outputs": [
        {
          "output_type": "execute_result",
          "data": {
            "text/plain": [
              "(150, 4)"
            ]
          },
          "metadata": {
            "tags": []
          },
          "execution_count": 127
        }
      ]
    },
    {
      "cell_type": "code",
      "metadata": {
        "id": "PmdESZjgqHVL",
        "colab_type": "code",
        "colab": {
          "base_uri": "https://localhost:8080/",
          "height": 104
        },
        "outputId": "348b9198-1ff7-4a40-8da0-bffcdf5d9554"
      },
      "source": [
        "x_std[0:5]"
      ],
      "execution_count": 128,
      "outputs": [
        {
          "output_type": "execute_result",
          "data": {
            "text/plain": [
              "array([[-0.90068117,  1.03205722, -1.3412724 , -1.31297673],\n",
              "       [-1.14301691, -0.1249576 , -1.3412724 , -1.31297673],\n",
              "       [-1.38535265,  0.33784833, -1.39813811, -1.31297673],\n",
              "       [-1.50652052,  0.10644536, -1.2844067 , -1.31297673],\n",
              "       [-1.02184904,  1.26346019, -1.3412724 , -1.31297673]])"
            ]
          },
          "metadata": {
            "tags": []
          },
          "execution_count": 128
        }
      ]
    },
    {
      "cell_type": "code",
      "metadata": {
        "id": "wNoqCPQNsrsz",
        "colab_type": "code",
        "colab": {
          "base_uri": "https://localhost:8080/",
          "height": 297
        },
        "outputId": "2a592314-5340-4f0e-9669-aa829660087e"
      },
      "source": [
        "x_std_df = pd.DataFrame(x_std)\n",
        "with plt.style.context('seaborn-whitegrid'):\n",
        "  plt.figure()\n",
        "  plt.scatter(x_std_df.iloc[:,0],x_std_df.iloc[:,1])\n",
        "  plt.ylim(ymin=-3)\n",
        "  plt.xlim(xmin=-3)\n",
        "  plt.axhline(linewidth=4, color='r')\n",
        "  plt.axvline(linewidth=4, color='r')\n",
        "  plt.tight_layout()\n",
        "  plt.show()"
      ],
      "execution_count": 129,
      "outputs": [
        {
          "output_type": "display_data",
          "data": {
            "image/png": "[encoded data removed]",
            "text/plain": [
              "<Figure size 432x288 with 1 Axes>"
            ]
          },
          "metadata": {
            "tags": []
          }
        }
      ]
    },
    {
      "cell_type": "markdown",
      "metadata": {
        "id": "SP8XCBt2Mx7I",
        "colab_type": "text"
      },
      "source": [
        "### 2 Building the covanciance matrix\n",
        "\n",
        "The covariance between two features is calculated as follows:\n",
        "\n",
        "$\\sigma_{jk} = \\frac{1}{n-1}\\sum_{i=1}^{N}\\left(  x_{ij}-\\bar{x}_j \\right)  \\left( x_{ik}-\\bar{x}_k \\right).$\n",
        "\n",
        "We can summarize the calculation of the covariance matrix via the following matrix equation:   \n",
        "$\\Sigma = \\frac{1}{n-1} \\left( (\\mathbf{X} - \\mathbf{\\bar{x}})^T\\;(\\mathbf{X} - \\mathbf{\\bar{x}}) \\right)$  \n",
        "where $\\mathbf{\\bar{x}}$ is the mean vector \n",
        "$\\mathbf{\\bar{x}} = \\sum\\limits_{i=1}^n x_{i}.$  \n",
        "The mean vector is a $d$-dimensional vector where each value in this vector represents the sample mean of a feature column in the dataset."
      ]
    },
    {
      "cell_type": "code",
      "metadata": {
        "id": "Uh-KsTnAMtu3",
        "colab_type": "code",
        "outputId": "145f15d9-ab3a-472e-9fa7-459ecfbdbd1d",
        "colab": {
          "base_uri": "https://localhost:8080/",
          "height": 104
        }
      },
      "source": [
        "mean_vec = np.mean(x_std, axis=0)\n",
        "cov_mat = (x_std - mean_vec).T.dot((x_std - mean_vec)) / (x_std.shape[0]-1)\n",
        "print('Covariance matrix \\n {}'.format(cov_mat))"
      ],
      "execution_count": 130,
      "outputs": [
        {
          "output_type": "stream",
          "text": [
            "Covariance matrix \n",
            " [[ 1.00671141 -0.11010327  0.87760486  0.82344326]\n",
            " [-0.11010327  1.00671141 -0.42333835 -0.358937  ]\n",
            " [ 0.87760486 -0.42333835  1.00671141  0.96921855]\n",
            " [ 0.82344326 -0.358937    0.96921855  1.00671141]]\n"
          ],
          "name": "stdout"
        }
      ]
    },
    {
      "cell_type": "markdown",
      "metadata": {
        "id": "QZRC2_etjgph",
        "colab_type": "text"
      },
      "source": [
        "Visualization of correlation matrix, to visualize the correlation between features\n",
        "\n",
        "The coefficient of correlation between two features is measured between +1.0 (it means that there is perfect positive correlation) and -1.0 (it means that there is perfect negative correlation), where 0.0 means no correlation.\n",
        "\n",
        "$corr_{XY} = \\frac{cov {XY}}{stdev X - stdev Y}$"
      ]
    },
    {
      "cell_type": "code",
      "metadata": {
        "id": "OCvVoSjgQE6G",
        "colab_type": "code",
        "outputId": "e18cd2d3-4d18-4711-e64e-4185b3c76402",
        "colab": {
          "base_uri": "https://localhost:8080/",
          "height": 305
        }
      },
      "source": [
        "sns.set(style=\"white\")\n",
        "\n",
        "df = pd.DataFrame(x_std)\n",
        "corr = df.corr()                                     # Compute the correlation matrix\n",
        "mask = np.triu(np.ones_like(corr, dtype=np.bool))    # Generate a mask for the upper triangle\n",
        "f, ax = plt.subplots(figsize=(5, 9))                 # Set up the matplotlib figure size\n",
        "cmap = sns.diverging_palette(200, 10, as_cmap=True)  # Generate a custom diverging colormap\n",
        "# Draw the heatmap with the mask and correct aspect ratio\n",
        "sns.heatmap(corr, mask=mask, cmap=cmap,vmax=.3, center=0,\n",
        "            square=True, linewidths=.5, cbar_kws={\"shrink\": .5})"
      ],
      "execution_count": 131,
      "outputs": [
        {
          "output_type": "execute_result",
          "data": {
            "text/plain": [
              "<matplotlib.axes._subplots.AxesSubplot at 0x7f309b3ef780>"
            ]
          },
          "metadata": {
            "tags": []
          },
          "execution_count": 131
        },
        {
          "output_type": "display_data",
          "data": {
            "image/png": "[encoded data removed]",
            "text/plain": [
              "<Figure size 360x648 with 2 Axes>"
            ]
          },
          "metadata": {
            "tags": []
          }
        }
      ]
    },
    {
      "cell_type": "markdown",
      "metadata": {
        "id": "a27DcALoNid1",
        "colab_type": "text"
      },
      "source": [
        "### 3 Calculate eigendecomposition on covariance matrix\n",
        "\n",
        "Eigendecomposition of the standardized data based on the correlation matrix:"
      ]
    },
    {
      "cell_type": "code",
      "metadata": {
        "id": "Ww7FLFSFM0XU",
        "colab_type": "code",
        "outputId": "9e95f9bd-ed14-4561-ae6f-c6c34e616c32",
        "colab": {
          "base_uri": "https://localhost:8080/",
          "height": 156
        }
      },
      "source": [
        "cov_mat = np.cov(x_std.T)\n",
        "eig_vals, eig_vecs = np.linalg.eig(cov_mat)\n",
        "print('Eigenvectors \\n {}'.format(eig_vecs))\n",
        "print('\\nEigenvalues \\n {}'.format(eig_vals))"
      ],
      "execution_count": 132,
      "outputs": [
        {
          "output_type": "stream",
          "text": [
            "Eigenvectors \n",
            " [[ 0.52237162 -0.37231836 -0.72101681  0.26199559]\n",
            " [-0.26335492 -0.92555649  0.24203288 -0.12413481]\n",
            " [ 0.58125401 -0.02109478  0.14089226 -0.80115427]\n",
            " [ 0.56561105 -0.06541577  0.6338014   0.52354627]]\n",
            "\n",
            "Eigenvalues \n",
            " [2.93035378 0.92740362 0.14834223 0.02074601]\n"
          ],
          "name": "stdout"
        }
      ]
    },
    {
      "cell_type": "markdown",
      "metadata": {
        "id": "ywtuO5RxObXf",
        "colab_type": "text"
      },
      "source": [
        "Visually confirm that the list is correctly sorted by decreasing eigenvalues.\n",
        "\n",
        "The eigenvectors with the lowest eigenvalues bear the least information about the distribution of the data; those are the ones can be dropped."
      ]
    },
    {
      "cell_type": "code",
      "metadata": {
        "id": "3X27iEQ8Mmvr",
        "colab_type": "code",
        "outputId": "b140e742-be50-4ae0-f77b-bab496d0ccd8",
        "colab": {
          "base_uri": "https://localhost:8080/",
          "height": 104
        }
      },
      "source": [
        "eig_pairs = [(np.abs(eig_vals[i]), eig_vecs[:,i]) for i in range(len(eig_vals))]\n",
        "eig_pairs.sort(key=lambda x: x[0], reverse=True)\n",
        "print('Eigenvalues in descending order:')\n",
        "for i in eig_pairs:\n",
        "  print (i[0])"
      ],
      "execution_count": 133,
      "outputs": [
        {
          "output_type": "stream",
          "text": [
            "Eigenvalues in descending order:\n",
            "2.930353775589317\n",
            "0.9274036215173419\n",
            "0.14834222648163944\n",
            "0.02074601399559593\n"
          ],
          "name": "stdout"
        }
      ]
    },
    {
      "cell_type": "code",
      "metadata": {
        "id": "mRt3VU7qdfS9",
        "colab_type": "code",
        "colab": {
          "base_uri": "https://localhost:8080/",
          "height": 104
        },
        "outputId": "0e23b70f-6831-477f-a0b0-220d8df808fb"
      },
      "source": [
        "print('Variation per principal component::')\n",
        "eig_val_list = [i[0] for i in eig_pairs]\n",
        "for i in eig_val_list:\n",
        "  print (round( (i /sum(eig_val_list)),7))"
      ],
      "execution_count": 134,
      "outputs": [
        {
          "output_type": "stream",
          "text": [
            "Variation per principal component::\n",
            "0.7277045\n",
            "0.2303052\n",
            "0.0368383\n",
            "0.0051519\n"
          ],
          "name": "stdout"
        }
      ]
    },
    {
      "cell_type": "markdown",
      "metadata": {
        "id": "mbN8NLmEPSB-",
        "colab_type": "text"
      },
      "source": [
        "### 4 Compute principal components"
      ]
    },
    {
      "cell_type": "code",
      "metadata": {
        "id": "mvZi5rwajDo6",
        "colab_type": "code",
        "outputId": "02c6982e-a49f-49db-c7c8-c2d9f129f559",
        "colab": {
          "base_uri": "https://localhost:8080/",
          "height": 34
        }
      },
      "source": [
        "# Explained variance\n",
        "pca = PCA(n_components=4).fit(x_std)\n",
        "print('Explained variation per principal component: {}'.format(pca.explained_variance_ratio_))"
      ],
      "execution_count": 135,
      "outputs": [
        {
          "output_type": "stream",
          "text": [
            "Explained variation per principal component: [0.72770452 0.23030523 0.03683832 0.00515193]\n"
          ],
          "name": "stdout"
        }
      ]
    },
    {
      "cell_type": "code",
      "metadata": {
        "id": "m7rKFZtnKzKJ",
        "colab_type": "code",
        "colab": {
          "base_uri": "https://localhost:8080/",
          "height": 294
        },
        "outputId": "a4f24918-0ab3-475b-82e4-823c1f8d8118"
      },
      "source": [
        "pc_explained = pca.explained_variance_ratio_.tolist()\n",
        "with plt.style.context('seaborn-whitegrid'):\n",
        "  plt.figure(figsize=(6, 4))\n",
        "\n",
        "  plt.bar(range(len(pc_explained)), pc_explained, alpha=0.5, align='center',\n",
        "          label='individual explained variance')\n",
        "  plt.plot(range(len(pc_explained)), np.cumsum(pc_explained),\n",
        "            label='acumulative explained variance')\n",
        "\n",
        "  plt.ylabel('Explained variance ratio')\n",
        "  plt.xlabel('Principal components')\n",
        "  plt.legend(loc='best')\n",
        "  plt.tight_layout()"
      ],
      "execution_count": 136,
      "outputs": [
        {
          "output_type": "display_data",
          "data": {
            "image/png": "[encoded data removed]",
            "text/plain": [
              "<Figure size 432x288 with 1 Axes>"
            ]
          },
          "metadata": {
            "tags": []
          }
        }
      ]
    },
    {
      "cell_type": "markdown",
      "metadata": {
        "id": "qrCX4SqN6e7-",
        "colab_type": "text"
      },
      "source": [
        "### 5 Reduce the data dimensions to 2D"
      ]
    },
    {
      "cell_type": "code",
      "metadata": {
        "id": "mHDJ8-FMuqYk",
        "colab_type": "code",
        "outputId": "e47ba645-f075-4f4f-ce6c-d1f825a0442f",
        "colab": {
          "base_uri": "https://localhost:8080/",
          "height": 34
        }
      },
      "source": [
        "pca = PCA(n_components=2).fit(x_std)\n",
        "x_pca = pca.transform(x_std)\n",
        "x_pca.shape"
      ],
      "execution_count": 137,
      "outputs": [
        {
          "output_type": "execute_result",
          "data": {
            "text/plain": [
              "(150, 2)"
            ]
          },
          "metadata": {
            "tags": []
          },
          "execution_count": 137
        }
      ]
    },
    {
      "cell_type": "markdown",
      "metadata": {
        "id": "s7iRNIEcPSMW",
        "colab_type": "text"
      },
      "source": [
        "We've reduced 4 dimensions to 2 dimensions"
      ]
    },
    {
      "cell_type": "markdown",
      "metadata": {
        "id": "76U6gHCO69HX",
        "colab_type": "text"
      },
      "source": [
        "###6 PCA dataset visualization"
      ]
    },
    {
      "cell_type": "code",
      "metadata": {
        "id": "Y5tWf2xIy9Ls",
        "colab_type": "code",
        "outputId": "8b3ace62-631e-471c-c318-4d372cfb11c1",
        "colab": {
          "base_uri": "https://localhost:8080/",
          "height": 206
        }
      },
      "source": [
        "df_pca = pd.DataFrame(data = x_pca\n",
        "             , columns = ['principal component 1', 'principal component 2'])\n",
        "df_pca.tail()"
      ],
      "execution_count": 138,
      "outputs": [
        {
          "output_type": "execute_result",
          "data": {
            "text/html": [
              "<div>\n",
              "<style scoped>\n",
              "    .dataframe tbody tr th:only-of-type {\n",
              "        vertical-align: middle;\n",
              "    }\n",
              "\n",
              "    .dataframe tbody tr th {\n",
              "        vertical-align: top;\n",
              "    }\n",
              "\n",
              "    .dataframe thead th {\n",
              "        text-align: right;\n",
              "    }\n",
              "</style>\n",
              "<table border=\"1\" class=\"dataframe\">\n",
              "  <thead>\n",
              "    <tr style=\"text-align: right;\">\n",
              "      <th></th>\n",
              "      <th>principal component 1</th>\n",
              "      <th>principal component 2</th>\n",
              "    </tr>\n",
              "  </thead>\n",
              "  <tbody>\n",
              "    <tr>\n",
              "      <th>145</th>\n",
              "      <td>1.870522</td>\n",
              "      <td>0.382822</td>\n",
              "    </tr>\n",
              "    <tr>\n",
              "      <th>146</th>\n",
              "      <td>1.558492</td>\n",
              "      <td>-0.905314</td>\n",
              "    </tr>\n",
              "    <tr>\n",
              "      <th>147</th>\n",
              "      <td>1.520845</td>\n",
              "      <td>0.266795</td>\n",
              "    </tr>\n",
              "    <tr>\n",
              "      <th>148</th>\n",
              "      <td>1.376391</td>\n",
              "      <td>1.016362</td>\n",
              "    </tr>\n",
              "    <tr>\n",
              "      <th>149</th>\n",
              "      <td>0.959299</td>\n",
              "      <td>-0.022284</td>\n",
              "    </tr>\n",
              "  </tbody>\n",
              "</table>\n",
              "</div>"
            ],
            "text/plain": [
              "     principal component 1  principal component 2\n",
              "145               1.870522               0.382822\n",
              "146               1.558492              -0.905314\n",
              "147               1.520845               0.266795\n",
              "148               1.376391               1.016362\n",
              "149               0.959299              -0.022284"
            ]
          },
          "metadata": {
            "tags": []
          },
          "execution_count": 138
        }
      ]
    },
    {
      "cell_type": "code",
      "metadata": {
        "id": "hq3m9jW9PFND",
        "colab_type": "code",
        "outputId": "eb3957db-5680-45d9-9ad0-82e59fd41be0",
        "colab": {
          "base_uri": "https://localhost:8080/",
          "height": 382
        }
      },
      "source": [
        "with plt.style.context('seaborn-whitegrid'):\n",
        "  plt.figure()\n",
        "  plt.figure(figsize=(7,5))\n",
        "  plt.xticks(fontsize=12)\n",
        "  plt.yticks(fontsize=14)\n",
        "  plt.xlabel('Principal Component - 1',fontsize=15)\n",
        "  plt.ylabel('Principal Component - 2',fontsize=15)\n",
        "  plt.title(\"Principal Component Analysis of Iris Dataset\",fontsize=20)\n",
        "  targets = iris_dataset['label'].unique()\n",
        "  colors = ['r', 'g', 'b']\n",
        "  for target, color in zip(targets,colors):\n",
        "      indicesToKeep = iris_dataset['label'] == target\n",
        "      plt.scatter(df_pca.loc[indicesToKeep, 'principal component 1'],\n",
        "                  df_pca.loc[indicesToKeep, 'principal component 2'], \n",
        "                  c = color, s = 50)\n",
        "  plt.legend(targets,prop={'size': 13}, loc='upper center')\n",
        "  plt.tight_layout()\n",
        "  plt.show()"
      ],
      "execution_count": 139,
      "outputs": [
        {
          "output_type": "display_data",
          "data": {
            "text/plain": [
              "<Figure size 432x288 with 0 Axes>"
            ]
          },
          "metadata": {
            "tags": []
          }
        },
        {
          "output_type": "display_data",
          "data": {
            "image/png": "[encoded data removed]",
            "text/plain": [
              "<Figure size 504x360 with 1 Axes>"
            ]
          },
          "metadata": {
            "tags": []
          }
        }
      ]
    },
    {
      "cell_type": "code",
      "metadata": {
        "id": "ovDGUj6iPLgN",
        "colab_type": "code",
        "colab": {}
      },
      "source": [
        ""
      ],
      "execution_count": 0,
      "outputs": []
    }
  ]
}