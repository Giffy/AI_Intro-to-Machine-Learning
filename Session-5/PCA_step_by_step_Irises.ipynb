{
  "nbformat": 4,
  "nbformat_minor": 0,
  "metadata": {
    "colab": {
      "name": "PCA step by step - Irises.ipynb",
      "provenance": [],
      "collapsed_sections": [],
      "authorship_tag": "ABX9TyOrWCYyvEREIma2XwR+I51/",
      "include_colab_link": true
    },
    "kernelspec": {
      "name": "python3",
      "display_name": "Python 3"
    }
  },
  "cells": [
    {
      "cell_type": "markdown",
      "metadata": {
        "id": "view-in-github",
        "colab_type": "text"
      },
      "source": [
        "<a href=\"https://colab.research.google.com/github/Giffy/AI_Intro-to-Machine-Learning/blob/master/Session-5/PCA_step_by_step_Irises.ipynb\" target=\"_parent\"><img src=\"https://colab.research.google.com/assets/colab-badge.svg\" alt=\"Open In Colab\"/></a>"
      ]
    },
    {
      "cell_type": "markdown",
      "metadata": {
        "id": "E-uTQdDn4BIv",
        "colab_type": "text"
      },
      "source": [
        "**Principal component analysis (PCA)** is a dimension reduction technique that enables to identify correlations and patterns in a dataset so it can be transformed into a dataset of significant lower dimensions and keeping the most relevant information.\n",
        "\n",
        "This notebook explains the key steps of PCA "
      ]
    },
    {
      "cell_type": "code",
      "metadata": {
        "id": "NcDILEPl73Th",
        "colab_type": "code",
        "colab": {}
      },
      "source": [
        "import numpy as np\n",
        "import pandas as pd\n",
        "from sklearn.preprocessing import StandardScaler\n",
        "from sklearn.decomposition import PCA\n",
        "import seaborn as sns\n",
        "import matplotlib.pyplot as plt\n",
        "%matplotlib inline"
      ],
      "execution_count": 0,
      "outputs": []
    },
    {
      "cell_type": "markdown",
      "metadata": {
        "id": "jtIG7z0KKCxj",
        "colab_type": "text"
      },
      "source": [
        "# Dataset preparation"
      ]
    },
    {
      "cell_type": "markdown",
      "metadata": {
        "id": "B01BjK3PJj26",
        "colab_type": "text"
      },
      "source": [
        "Loading and analyzing the iris flowers dataset."
      ]
    },
    {
      "cell_type": "code",
      "metadata": {
        "id": "nf2O49DXI-TT",
        "colab_type": "code",
        "outputId": "25eee543-19d4-4b0a-edd7-81e4523c1e57",
        "colab": {
          "base_uri": "https://localhost:8080/",
          "height": 206
        }
      },
      "source": [
        "iris_dataset = pd.read_csv('https://raw.githubusercontent.com/Giffy/AI_Intro-to-Machine-Learning/master/Session-5/Datasets/iris.data.zip', header=None)\n",
        "iris_dataset.columns=['sepal length (cm)', 'sepal width (cm)', 'petal length (cm)', 'petal width (cm)', 'label']\n",
        "iris_dataset.tail()"
      ],
      "execution_count": 48,
      "outputs": [
        {
          "output_type": "execute_result",
          "data": {
            "text/html": [
              "<div>\n",
              "<style scoped>\n",
              "    .dataframe tbody tr th:only-of-type {\n",
              "        vertical-align: middle;\n",
              "    }\n",
              "\n",
              "    .dataframe tbody tr th {\n",
              "        vertical-align: top;\n",
              "    }\n",
              "\n",
              "    .dataframe thead th {\n",
              "        text-align: right;\n",
              "    }\n",
              "</style>\n",
              "<table border=\"1\" class=\"dataframe\">\n",
              "  <thead>\n",
              "    <tr style=\"text-align: right;\">\n",
              "      <th></th>\n",
              "      <th>sepal length (cm)</th>\n",
              "      <th>sepal width (cm)</th>\n",
              "      <th>petal length (cm)</th>\n",
              "      <th>petal width (cm)</th>\n",
              "      <th>label</th>\n",
              "    </tr>\n",
              "  </thead>\n",
              "  <tbody>\n",
              "    <tr>\n",
              "      <th>145</th>\n",
              "      <td>6.7</td>\n",
              "      <td>3.0</td>\n",
              "      <td>5.2</td>\n",
              "      <td>2.3</td>\n",
              "      <td>virginica</td>\n",
              "    </tr>\n",
              "    <tr>\n",
              "      <th>146</th>\n",
              "      <td>6.3</td>\n",
              "      <td>2.5</td>\n",
              "      <td>5.0</td>\n",
              "      <td>1.9</td>\n",
              "      <td>virginica</td>\n",
              "    </tr>\n",
              "    <tr>\n",
              "      <th>147</th>\n",
              "      <td>6.5</td>\n",
              "      <td>3.0</td>\n",
              "      <td>5.2</td>\n",
              "      <td>2.0</td>\n",
              "      <td>virginica</td>\n",
              "    </tr>\n",
              "    <tr>\n",
              "      <th>148</th>\n",
              "      <td>6.2</td>\n",
              "      <td>3.4</td>\n",
              "      <td>5.4</td>\n",
              "      <td>2.3</td>\n",
              "      <td>virginica</td>\n",
              "    </tr>\n",
              "    <tr>\n",
              "      <th>149</th>\n",
              "      <td>5.9</td>\n",
              "      <td>3.0</td>\n",
              "      <td>5.1</td>\n",
              "      <td>1.8</td>\n",
              "      <td>virginica</td>\n",
              "    </tr>\n",
              "  </tbody>\n",
              "</table>\n",
              "</div>"
            ],
            "text/plain": [
              "     sepal length (cm)  sepal width (cm)  ...  petal width (cm)      label\n",
              "145                6.7               3.0  ...               2.3  virginica\n",
              "146                6.3               2.5  ...               1.9  virginica\n",
              "147                6.5               3.0  ...               2.0  virginica\n",
              "148                6.2               3.4  ...               2.3  virginica\n",
              "149                5.9               3.0  ...               1.8  virginica\n",
              "\n",
              "[5 rows x 5 columns]"
            ]
          },
          "metadata": {
            "tags": []
          },
          "execution_count": 48
        }
      ]
    },
    {
      "cell_type": "markdown",
      "metadata": {
        "id": "EsFc2AkhMPeX",
        "colab_type": "text"
      },
      "source": [
        "# Principal Component Analysis (step by step)"
      ]
    },
    {
      "cell_type": "markdown",
      "metadata": {
        "id": "gByvH6-5Mc8d",
        "colab_type": "text"
      },
      "source": [
        "\n",
        "### 1 Standardize the data\n",
        "We need to standatize the data because the PCA's output is influenced based on the scale of the features of the data."
      ]
    },
    {
      "cell_type": "code",
      "metadata": {
        "id": "TfEEASmFLxbi",
        "colab_type": "code",
        "colab": {}
      },
      "source": [
        "features = iris_dataset.columns.to_list()[:4]\n",
        "x = iris_dataset.loc[:, features]\n",
        "x = x[:].replace(np.nan,0 , regex=True)                         # Replaces all null values to 0, if any\n",
        "x = x.values                         \n",
        "x_std = StandardScaler().fit_transform(x)                       # Performs standarization of the dataset"
      ],
      "execution_count": 0,
      "outputs": []
    },
    {
      "cell_type": "code",
      "metadata": {
        "id": "FrZ9IyIjMhXv",
        "colab_type": "code",
        "outputId": "6e5c08ef-0ed8-408d-c346-138d7462df44",
        "colab": {
          "base_uri": "https://localhost:8080/",
          "height": 34
        }
      },
      "source": [
        "x_std.shape"
      ],
      "execution_count": 50,
      "outputs": [
        {
          "output_type": "execute_result",
          "data": {
            "text/plain": [
              "(150, 4)"
            ]
          },
          "metadata": {
            "tags": []
          },
          "execution_count": 50
        }
      ]
    },
    {
      "cell_type": "markdown",
      "metadata": {
        "id": "SP8XCBt2Mx7I",
        "colab_type": "text"
      },
      "source": [
        "### 2 Building the covanciance matrix."
      ]
    },
    {
      "cell_type": "code",
      "metadata": {
        "id": "Uh-KsTnAMtu3",
        "colab_type": "code",
        "colab": {
          "base_uri": "https://localhost:8080/",
          "height": 104
        },
        "outputId": "c8ef4895-0942-4a97-b20c-29d52d8bdd9f"
      },
      "source": [
        "mean_vec = np.mean(x_std, axis=0)\n",
        "cov_mat = (x_std - mean_vec).T.dot((x_std - mean_vec)) / (x_std.shape[0]-1)\n",
        "print('Covariance matrix \\n {}'.format(cov_mat))"
      ],
      "execution_count": 93,
      "outputs": [
        {
          "output_type": "stream",
          "text": [
            "Covariance matrix \n",
            " [[ 1.00671141 -0.11010327  0.87760486  0.82344326]\n",
            " [-0.11010327  1.00671141 -0.42333835 -0.358937  ]\n",
            " [ 0.87760486 -0.42333835  1.00671141  0.96921855]\n",
            " [ 0.82344326 -0.358937    0.96921855  1.00671141]]\n"
          ],
          "name": "stdout"
        }
      ]
    },
    {
      "cell_type": "markdown",
      "metadata": {
        "id": "QZRC2_etjgph",
        "colab_type": "text"
      },
      "source": [
        "Visualization of covariance matrix"
      ]
    },
    {
      "cell_type": "code",
      "metadata": {
        "id": "OCvVoSjgQE6G",
        "colab_type": "code",
        "colab": {
          "base_uri": "https://localhost:8080/",
          "height": 305
        },
        "outputId": "ac97af06-7494-4c71-80e6-03004d7a05c5"
      },
      "source": [
        "sns.set(style=\"white\")\n",
        "\n",
        "df = pd.DataFrame(x_std)\n",
        "corr = df.corr()                                     # Compute the correlation matrix\n",
        "mask = np.triu(np.ones_like(corr, dtype=np.bool))    # Generate a mask for the upper triangle\n",
        "f, ax = plt.subplots(figsize=(5, 9))                 # Set up the matplotlib figure size\n",
        "cmap = sns.diverging_palette(220, 10, as_cmap=True)  # Generate a custom diverging colormap\n",
        "# Draw the heatmap with the mask and correct aspect ratio\n",
        "sns.heatmap(corr, mask=mask, cmap=cmap, vmax=.3, center=0,\n",
        "            square=True, linewidths=.5, cbar_kws={\"shrink\": .5})"
      ],
      "execution_count": 52,
      "outputs": [
        {
          "output_type": "execute_result",
          "data": {
            "text/plain": [
              "<matplotlib.axes._subplots.AxesSubplot at 0x7fa863c60eb8>"
            ]
          },
          "metadata": {
            "tags": []
          },
          "execution_count": 52
        },
        {
          "output_type": "display_data",
          "data": {
            "image/png": "[encoded data removed]",
            "text/plain": [
              "<Figure size 360x648 with 2 Axes>"
            ]
          },
          "metadata": {
            "tags": []
          }
        }
      ]
    },
    {
      "cell_type": "markdown",
      "metadata": {
        "id": "a27DcALoNid1",
        "colab_type": "text"
      },
      "source": [
        "### 3 Calculate eigendecomposition on covariance matrix"
      ]
    },
    {
      "cell_type": "code",
      "metadata": {
        "id": "Ww7FLFSFM0XU",
        "colab_type": "code",
        "colab": {
          "base_uri": "https://localhost:8080/",
          "height": 156
        },
        "outputId": "f4f2f5f5-961e-423a-ead9-0852b99427b1"
      },
      "source": [
        "cov_mat = np.cov(x_std.T)\n",
        "eig_vals, eig_vecs = np.linalg.eig(cov_mat)\n",
        "print('Eigenvectors \\n {}'.format(eig_vecs))\n",
        "print('\\nEigenvalues \\n {}'.format(eig_vals))"
      ],
      "execution_count": 92,
      "outputs": [
        {
          "output_type": "stream",
          "text": [
            "Eigenvectors \n",
            " [[ 0.52237162 -0.37231836 -0.72101681  0.26199559]\n",
            " [-0.26335492 -0.92555649  0.24203288 -0.12413481]\n",
            " [ 0.58125401 -0.02109478  0.14089226 -0.80115427]\n",
            " [ 0.56561105 -0.06541577  0.6338014   0.52354627]]\n",
            "\n",
            "Eigenvalues \n",
            " [2.93035378 0.92740362 0.14834223 0.02074601]\n"
          ],
          "name": "stdout"
        }
      ]
    },
    {
      "cell_type": "markdown",
      "metadata": {
        "id": "ywtuO5RxObXf",
        "colab_type": "text"
      },
      "source": [
        "Visually confirm that the list is correctly sorted by decreasing eigenvalues.\n",
        "\n",
        "The eigenvectors with the lowest eigenvalues bear the least information about the distribution of the data; those are the ones can be dropped."
      ]
    },
    {
      "cell_type": "code",
      "metadata": {
        "id": "3X27iEQ8Mmvr",
        "colab_type": "code",
        "outputId": "625cbdf7-4282-4c25-d6ec-8db507c99b1e",
        "colab": {
          "base_uri": "https://localhost:8080/",
          "height": 104
        }
      },
      "source": [
        "eig_pairs = [(np.abs(eig_vals[i]), eig_vecs[:,i]) for i in range(len(eig_vals))]\n",
        "eig_pairs.sort(key=lambda x: x[0], reverse=True)\n",
        "print('Eigenvalues in descending order:')\n",
        "for i in eig_pairs:\n",
        "  print(i[0])"
      ],
      "execution_count": 76,
      "outputs": [
        {
          "output_type": "stream",
          "text": [
            "Eigenvalues in descending order:\n",
            "2.930353775589317\n",
            "0.9274036215173419\n",
            "0.14834222648163944\n",
            "0.02074601399559593\n"
          ],
          "name": "stdout"
        }
      ]
    },
    {
      "cell_type": "markdown",
      "metadata": {
        "id": "mbN8NLmEPSB-",
        "colab_type": "text"
      },
      "source": [
        "### 4 Compute principal components"
      ]
    },
    {
      "cell_type": "code",
      "metadata": {
        "id": "mvZi5rwajDo6",
        "colab_type": "code",
        "colab": {
          "base_uri": "https://localhost:8080/",
          "height": 34
        },
        "outputId": "0c3e6849-0d55-4dc1-b7d4-a9ff45687850"
      },
      "source": [
        "# Explained variance\n",
        "pca = PCA(n_components=2).fit(x_std)\n",
        "print('Explained variation per principal component: {}'.format(pca.explained_variance_ratio_))"
      ],
      "execution_count": 62,
      "outputs": [
        {
          "output_type": "stream",
          "text": [
            "Explained variation per principal component: [0.72770452 0.23030523]\n"
          ],
          "name": "stdout"
        }
      ]
    },
    {
      "cell_type": "code",
      "metadata": {
        "id": "-uRT9j1TxVgD",
        "colab_type": "code",
        "colab": {
          "base_uri": "https://localhost:8080/",
          "height": 302
        },
        "outputId": "8486ca8c-1e80-4d4f-883f-2d972a0c8d27"
      },
      "source": [
        "plt.plot(np.cumsum(pca.explained_variance_ratio_))\n",
        "plt.xlabel('number of components')\n",
        "plt.ylabel('acumulative explained variance')\n",
        "plt.show"
      ],
      "execution_count": 63,
      "outputs": [
        {
          "output_type": "execute_result",
          "data": {
            "text/plain": [
              "<function matplotlib.pyplot.show>"
            ]
          },
          "metadata": {
            "tags": []
          },
          "execution_count": 63
        },
        {
          "output_type": "display_data",
          "data": {
            "image/png": "[encoded data removed]",
            "text/plain": [
              "<Figure size 432x288 with 1 Axes>"
            ]
          },
          "metadata": {
            "tags": []
          }
        }
      ]
    },
    {
      "cell_type": "markdown",
      "metadata": {
        "id": "qrCX4SqN6e7-",
        "colab_type": "text"
      },
      "source": [
        "### 5 Reduce teh data dimensions"
      ]
    },
    {
      "cell_type": "code",
      "metadata": {
        "id": "mHDJ8-FMuqYk",
        "colab_type": "code",
        "colab": {
          "base_uri": "https://localhost:8080/",
          "height": 34
        },
        "outputId": "5e6c690c-5b35-4c84-f8af-b424d4c0e8c3"
      },
      "source": [
        "x_pca = pca.transform(x_std)\n",
        "x_pca.shape"
      ],
      "execution_count": 64,
      "outputs": [
        {
          "output_type": "execute_result",
          "data": {
            "text/plain": [
              "(150, 2)"
            ]
          },
          "metadata": {
            "tags": []
          },
          "execution_count": 64
        }
      ]
    },
    {
      "cell_type": "markdown",
      "metadata": {
        "id": "s7iRNIEcPSMW",
        "colab_type": "text"
      },
      "source": [
        "We've reduced 4 dimensions to 2 dimensions"
      ]
    },
    {
      "cell_type": "markdown",
      "metadata": {
        "id": "76U6gHCO69HX",
        "colab_type": "text"
      },
      "source": [
        "###6 PCA dataset visualization"
      ]
    },
    {
      "cell_type": "code",
      "metadata": {
        "id": "Y5tWf2xIy9Ls",
        "colab_type": "code",
        "colab": {
          "base_uri": "https://localhost:8080/",
          "height": 206
        },
        "outputId": "e5facba9-0ae9-481a-d4e5-9c198de0e090"
      },
      "source": [
        "df_pca = pd.DataFrame(data = x_pca\n",
        "             , columns = ['principal component 1', 'principal component 2'])\n",
        "df_pca.tail()"
      ],
      "execution_count": 72,
      "outputs": [
        {
          "output_type": "execute_result",
          "data": {
            "text/html": [
              "<div>\n",
              "<style scoped>\n",
              "    .dataframe tbody tr th:only-of-type {\n",
              "        vertical-align: middle;\n",
              "    }\n",
              "\n",
              "    .dataframe tbody tr th {\n",
              "        vertical-align: top;\n",
              "    }\n",
              "\n",
              "    .dataframe thead th {\n",
              "        text-align: right;\n",
              "    }\n",
              "</style>\n",
              "<table border=\"1\" class=\"dataframe\">\n",
              "  <thead>\n",
              "    <tr style=\"text-align: right;\">\n",
              "      <th></th>\n",
              "      <th>principal component 1</th>\n",
              "      <th>principal component 2</th>\n",
              "    </tr>\n",
              "  </thead>\n",
              "  <tbody>\n",
              "    <tr>\n",
              "      <th>145</th>\n",
              "      <td>1.870522</td>\n",
              "      <td>0.382822</td>\n",
              "    </tr>\n",
              "    <tr>\n",
              "      <th>146</th>\n",
              "      <td>1.558492</td>\n",
              "      <td>-0.905314</td>\n",
              "    </tr>\n",
              "    <tr>\n",
              "      <th>147</th>\n",
              "      <td>1.520845</td>\n",
              "      <td>0.266795</td>\n",
              "    </tr>\n",
              "    <tr>\n",
              "      <th>148</th>\n",
              "      <td>1.376391</td>\n",
              "      <td>1.016362</td>\n",
              "    </tr>\n",
              "    <tr>\n",
              "      <th>149</th>\n",
              "      <td>0.959299</td>\n",
              "      <td>-0.022284</td>\n",
              "    </tr>\n",
              "  </tbody>\n",
              "</table>\n",
              "</div>"
            ],
            "text/plain": [
              "     principal component 1  principal component 2\n",
              "145               1.870522               0.382822\n",
              "146               1.558492              -0.905314\n",
              "147               1.520845               0.266795\n",
              "148               1.376391               1.016362\n",
              "149               0.959299              -0.022284"
            ]
          },
          "metadata": {
            "tags": []
          },
          "execution_count": 72
        }
      ]
    },
    {
      "cell_type": "code",
      "metadata": {
        "id": "hq3m9jW9PFND",
        "colab_type": "code",
        "outputId": "0f6742ba-6c6f-416c-f755-b16f9c8aabc5",
        "colab": {
          "base_uri": "https://localhost:8080/",
          "height": 386
        }
      },
      "source": [
        "with plt.style.context('seaborn-whitegrid'):\n",
        "  plt.figure()\n",
        "  plt.figure(figsize=(7,5))\n",
        "  plt.xticks(fontsize=12)\n",
        "  plt.yticks(fontsize=14)\n",
        "  plt.xlabel('Principal Component - 1',fontsize=15)\n",
        "  plt.ylabel('Principal Component - 2',fontsize=15)\n",
        "  plt.title(\"Principal Component Analysis of Iris Dataset\",fontsize=20)\n",
        "  targets = iris_dataset['label'].unique()\n",
        "  colors = ['r', 'g', 'b']\n",
        "  for target, color in zip(targets,colors):\n",
        "      indicesToKeep = iris_dataset['label'] == target\n",
        "      plt.scatter(df_pca.loc[indicesToKeep, 'principal component 1'],\n",
        "                  df_pca.loc[indicesToKeep, 'principal component 2'], \n",
        "                  c = color, s = 50)\n",
        "  plt.legend(targets,prop={'size': 13}, loc='upper center')\n",
        "  plt.tight_layout()\n",
        "  plt.show()"
      ],
      "execution_count": 90,
      "outputs": [
        {
          "output_type": "display_data",
          "data": {
            "text/plain": [
              "<Figure size 432x288 with 0 Axes>"
            ]
          },
          "metadata": {
            "tags": []
          }
        },
        {
          "output_type": "display_data",
          "data": {
            "image/png": "[encoded data removed]",
            "text/plain": [
              "<Figure size 504x360 with 1 Axes>"
            ]
          },
          "metadata": {
            "tags": []
          }
        }
      ]
    },
    {
      "cell_type": "code",
      "metadata": {
        "id": "ovDGUj6iPLgN",
        "colab_type": "code",
        "colab": {}
      },
      "source": [
        ""
      ],
      "execution_count": 0,
      "outputs": []
    }
  ]
}