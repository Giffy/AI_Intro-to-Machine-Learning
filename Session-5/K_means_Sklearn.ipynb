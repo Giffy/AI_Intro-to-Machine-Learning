{
  "nbformat": 4,
  "nbformat_minor": 0,
  "metadata": {
    "colab": {
      "name": "K-means - Sklearn.ipynb",
      "provenance": [],
      "collapsed_sections": [],
      "authorship_tag": "ABX9TyNE2MC/ypIpJwYqtf+qOS/9",
      "include_colab_link": true
    },
    "kernelspec": {
      "name": "python3",
      "display_name": "Python 3"
    }
  },
  "cells": [
    {
      "cell_type": "markdown",
      "metadata": {
        "id": "view-in-github",
        "colab_type": "text"
      },
      "source": [
        "<a href=\"https://colab.research.google.com/github/Giffy/AI_Intro-to-Machine-Learning/blob/master/Session-5/K_means_Sklearn.ipynb\" target=\"_parent\"><img src=\"https://colab.research.google.com/assets/colab-badge.svg\" alt=\"Open In Colab\"/></a>"
      ]
    },
    {
      "cell_type": "markdown",
      "metadata": {
        "id": "-cVI01YKIeW9",
        "colab_type": "text"
      },
      "source": [
        "Source: https://www.youtube.com/watch?v=ikt0sny_ImY"
      ]
    },
    {
      "cell_type": "markdown",
      "metadata": {
        "id": "XWjFyPtosc1K",
        "colab_type": "text"
      },
      "source": [
        "# K-means algorithm\n"
      ]
    },
    {
      "cell_type": "code",
      "metadata": {
        "id": "NcDILEPl73Th",
        "colab_type": "code",
        "colab": {}
      },
      "source": [
        "import numpy as np\n",
        "import pandas as pd\n",
        "import matplotlib.pyplot as plt\n",
        "%matplotlib inline\n",
        "import sklearn\n",
        "from sklearn.cluster import KMeans\n",
        "from mpl_toolkits.mplot3d import Axes3D\n",
        "from sklearn.preprocessing import scale\n",
        "import sklearn.metrics as sm\n",
        "from sklearn import datasets\n",
        "from sklearn.metrics import confusion_matrix, classification_report"
      ],
      "execution_count": 0,
      "outputs": []
    },
    {
      "cell_type": "markdown",
      "metadata": {
        "id": "jtIG7z0KKCxj",
        "colab_type": "text"
      },
      "source": [
        "# Dataset preparation"
      ]
    },
    {
      "cell_type": "markdown",
      "metadata": {
        "id": "B01BjK3PJj26",
        "colab_type": "text"
      },
      "source": [
        "Loading and analyzing the iris flowers dataset."
      ]
    },
    {
      "cell_type": "code",
      "metadata": {
        "id": "z4cHc-VE-o97",
        "colab_type": "code",
        "colab": {
          "base_uri": "https://localhost:8080/",
          "height": 191
        },
        "outputId": "3b0bec0d-43a6-4be8-d7ef-ca5db928ed5e"
      },
      "source": [
        "iris = datasets.load_iris()\n",
        "X = scale(iris.data)\n",
        "y= pd.DataFrame(iris.target)\n",
        "variable_names = iris.feature_names\n",
        "X[0:10,]"
      ],
      "execution_count": 54,
      "outputs": [
        {
          "output_type": "execute_result",
          "data": {
            "text/plain": [
              "array([[-0.90068117,  1.01900435, -1.34022653, -1.3154443 ],\n",
              "       [-1.14301691, -0.13197948, -1.34022653, -1.3154443 ],\n",
              "       [-1.38535265,  0.32841405, -1.39706395, -1.3154443 ],\n",
              "       [-1.50652052,  0.09821729, -1.2833891 , -1.3154443 ],\n",
              "       [-1.02184904,  1.24920112, -1.34022653, -1.3154443 ],\n",
              "       [-0.53717756,  1.93979142, -1.16971425, -1.05217993],\n",
              "       [-1.50652052,  0.78880759, -1.34022653, -1.18381211],\n",
              "       [-1.02184904,  0.78880759, -1.2833891 , -1.3154443 ],\n",
              "       [-1.74885626, -0.36217625, -1.34022653, -1.3154443 ],\n",
              "       [-1.14301691,  0.09821729, -1.2833891 , -1.44707648]])"
            ]
          },
          "metadata": {
            "tags": []
          },
          "execution_count": 54
        }
      ]
    },
    {
      "cell_type": "markdown",
      "metadata": {
        "id": "Qxw7iKRWu9eN",
        "colab_type": "text"
      },
      "source": [
        "## Building and running your model"
      ]
    },
    {
      "cell_type": "code",
      "metadata": {
        "id": "3mL7PBmot-mm",
        "colab_type": "code",
        "colab": {
          "base_uri": "https://localhost:8080/",
          "height": 69
        },
        "outputId": "824c1fd2-ab69-4c15-f91b-9e91dcea7137"
      },
      "source": [
        "clustering = KMeans(n_clusters=3, random_state= 5)\n",
        "clustering.fit(X)"
      ],
      "execution_count": 18,
      "outputs": [
        {
          "output_type": "execute_result",
          "data": {
            "text/plain": [
              "KMeans(algorithm='auto', copy_x=True, init='k-means++', max_iter=300,\n",
              "       n_clusters=3, n_init=10, n_jobs=None, precompute_distances='auto',\n",
              "       random_state=5, tol=0.0001, verbose=0)"
            ]
          },
          "metadata": {
            "tags": []
          },
          "execution_count": 18
        }
      ]
    },
    {
      "cell_type": "markdown",
      "metadata": {
        "id": "HXQZSUmh4RnS",
        "colab_type": "text"
      },
      "source": [
        "## Plotting your outputs"
      ]
    },
    {
      "cell_type": "code",
      "metadata": {
        "id": "FFlcctRw9Bvo",
        "colab_type": "code",
        "colab": {}
      },
      "source": [
        "iris_df= pd.DataFrame(iris.data)\n",
        "iris_df.columns=['sepal length (cm)', 'sepal width (cm)', 'petal length (cm)', 'petal width (cm)']\n",
        "y.columns = ['Targets']"
      ],
      "execution_count": 0,
      "outputs": []
    },
    {
      "cell_type": "code",
      "metadata": {
        "id": "r5FRKN5M_dwt",
        "colab_type": "code",
        "colab": {
          "base_uri": "https://localhost:8080/",
          "height": 298
        },
        "outputId": "2d831dfc-414a-4967-f6cd-b1dbcbb0cd17"
      },
      "source": [
        "color_theme = np.array(['r','g','b'])\n",
        "plt.subplot(1,2,1)\n",
        "\n",
        "plt.scatter(x=iris_df['petal length (cm)'], y=iris_df['petal width (cm)'], c= color_theme[iris.target], s=50)\n",
        "plt.title('Truth classification')\n",
        "\n",
        "plt.subplot(1,2,2)\n",
        "\n",
        "plt.scatter(x=iris_df['petal length (cm)'], y=iris_df['petal width (cm)'], c= color_theme[clustering.labels_], s=50)\n",
        "plt.title('K-means classification')\n",
        "\n",
        "plt.show"
      ],
      "execution_count": 53,
      "outputs": [
        {
          "output_type": "execute_result",
          "data": {
            "text/plain": [
              "<function matplotlib.pyplot.show>"
            ]
          },
          "metadata": {
            "tags": []
          },
          "execution_count": 53
        },
        {
          "output_type": "display_data",
          "data": {
            "image/png": "[encoded data removed]",
            "text/plain": [
              "<Figure size 432x288 with 2 Axes>"
            ]
          },
          "metadata": {
            "tags": []
          }
        }
      ]
    },
    {
      "cell_type": "code",
      "metadata": {
        "id": "LgL8WiYEAw44",
        "colab_type": "code",
        "colab": {
          "base_uri": "https://localhost:8080/",
          "height": 298
        },
        "outputId": "f8d4e082-fbb8-4701-84e2-6768ad501084"
      },
      "source": [
        "relabel = np.choose(clustering.labels_,[1,0,2]).astype(np.int64)\n",
        "color_theme = np.array(['r','g','b'])\n",
        "plt.subplot(1,2,1)\n",
        "\n",
        "plt.scatter(x=iris_df['petal length (cm)'], y=iris_df['petal width (cm)'], c= color_theme[iris.target], s=50)\n",
        "plt.title('Truth classification')\n",
        "\n",
        "plt.subplot(1,2,2)\n",
        "\n",
        "plt.scatter(x=iris_df['petal length (cm)'], y=iris_df['petal width (cm)'], c= color_theme[relabel], s=50)\n",
        "plt.title('K-means classification')\n",
        "\n",
        "plt.show"
      ],
      "execution_count": 62,
      "outputs": [
        {
          "output_type": "execute_result",
          "data": {
            "text/plain": [
              "<function matplotlib.pyplot.show>"
            ]
          },
          "metadata": {
            "tags": []
          },
          "execution_count": 62
        },
        {
          "output_type": "display_data",
          "data": {
            "image/png": "[encoded data removed]",
            "text/plain": [
              "<Figure size 432x288 with 2 Axes>"
            ]
          },
          "metadata": {
            "tags": []
          }
        }
      ]
    },
    {
      "cell_type": "markdown",
      "metadata": {
        "id": "EsFc2AkhMPeX",
        "colab_type": "text"
      },
      "source": [
        "# Evaluate your clustering results\n",
        "\n",
        "Precission is a measure of the model's relevancy\n",
        "\n",
        "Recall is a measure of the model's completness"
      ]
    },
    {
      "cell_type": "code",
      "metadata": {
        "id": "TfEEASmFLxbi",
        "colab_type": "code",
        "colab": {
          "base_uri": "https://localhost:8080/",
          "height": 191
        },
        "outputId": "0678f5a5-2fbc-4b5e-d969-9d84301617c3"
      },
      "source": [
        "print (classification_report(y, relabel))"
      ],
      "execution_count": 63,
      "outputs": [
        {
          "output_type": "stream",
          "text": [
            "              precision    recall  f1-score   support\n",
            "\n",
            "           0       1.00      1.00      1.00        50\n",
            "           1       0.74      0.78      0.76        50\n",
            "           2       0.77      0.72      0.74        50\n",
            "\n",
            "    accuracy                           0.83       150\n",
            "   macro avg       0.83      0.83      0.83       150\n",
            "weighted avg       0.83      0.83      0.83       150\n",
            "\n"
          ],
          "name": "stdout"
        }
      ]
    }
  ]
}