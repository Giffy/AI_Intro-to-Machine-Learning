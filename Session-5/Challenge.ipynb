{
  "nbformat": 4,
  "nbformat_minor": 0,
  "metadata": {
    "colab": {
      "name": "Challenge.ipynb",
      "provenance": [],
      "collapsed_sections": [],
      "machine_shape": "hm",
      "authorship_tag": "ABX9TyNJDbm/cH8Rdu5TuKUMGsls",
      "include_colab_link": true
    },
    "kernelspec": {
      "name": "python3",
      "display_name": "Python 3"
    }
  },
  "cells": [
    {
      "cell_type": "markdown",
      "metadata": {
        "id": "view-in-github",
        "colab_type": "text"
      },
      "source": [
        "<a href=\"https://colab.research.google.com/github/Giffy/AI_Intro-to-Machine-Learning/blob/master/Session-5/Challenge.ipynb\" target=\"_parent\"><img src=\"https://colab.research.google.com/assets/colab-badge.svg\" alt=\"Open In Colab\"/></a>"
      ]
    },
    {
      "cell_type": "markdown",
      "metadata": {
        "id": "AmcY392fd-wh",
        "colab_type": "text"
      },
      "source": [
        "## PCA challenge ;)"
      ]
    },
    {
      "cell_type": "markdown",
      "metadata": {
        "id": "E-uTQdDn4BIv",
        "colab_type": "text"
      },
      "source": [
        "1. Dimensionality reduction algorithms are one of the possible ways to reduce the computation time required to build a model?\n",
        "\n",
        "a) True\n",
        "\n",
        "b) False"
      ]
    },
    {
      "cell_type": "code",
      "metadata": {
        "id": "RskiI-rId46W",
        "colab_type": "code",
        "colab": {}
      },
      "source": [
        "# Your answer Here"
      ],
      "execution_count": 0,
      "outputs": []
    },
    {
      "cell_type": "markdown",
      "metadata": {
        "id": "MnXilt4ZdoZd",
        "colab_type": "text"
      },
      "source": [
        "2. PCA works better if there is?\n",
        "\n",
        "a) A linear structure in the data\n",
        "\n",
        "b) If the data lies on a curved surface and not on a flat surface\n",
        "\n",
        "c) If features are normalized"
      ]
    },
    {
      "cell_type": "code",
      "metadata": {
        "id": "vDM-mzWCd88q",
        "colab_type": "code",
        "colab": {}
      },
      "source": [
        "# Your answer Here"
      ],
      "execution_count": 0,
      "outputs": []
    },
    {
      "cell_type": "markdown",
      "metadata": {
        "id": "tUK5FmgSdxFQ",
        "colab_type": "text"
      },
      "source": [
        "3. What happens when you get features in lower dimensions using PCA?  (Select 2 answers)\n",
        "\n",
        "a) The features will still have interpretability\n",
        "\n",
        "b) The features will lose interpretability\n",
        "\n",
        "c) The features must carry all information present in data\n",
        "\n",
        "d) The features may not carry all information present in data"
      ]
    },
    {
      "cell_type": "code",
      "metadata": {
        "id": "Kg15S2xrd9co",
        "colab_type": "code",
        "colab": {}
      },
      "source": [
        "# Your answer Here"
      ],
      "execution_count": 0,
      "outputs": []
    },
    {
      "cell_type": "markdown",
      "metadata": {
        "id": "mhcuV1ald00t",
        "colab_type": "text"
      },
      "source": [
        "Load the dataset and type your code, later try to answer:\n",
        "\n",
        "\n",
        "4. How many principal components can we consider? \n",
        "\n",
        "5. Consider the necessary number of components to explain at least a 95% of the variance.\n",
        "\n",
        "6. Calculate the new values for this decomposition and plot them. \n",
        "\n",
        "\n",
        "7. Consider the necessary number of components to explain at least a 85% of the variance.\n",
        "\n",
        "8. Calculate the new values for this decomposition and plot them. "
      ]
    },
    {
      "cell_type": "code",
      "metadata": {
        "id": "NcDILEPl73Th",
        "colab_type": "code",
        "colab": {}
      },
      "source": [
        "import numpy as np\n",
        "import pandas as pd\n",
        "from sklearn.preprocessing import StandardScaler\n",
        "from sklearn.decomposition import PCA\n",
        "import seaborn as sns\n",
        "import matplotlib.pyplot as plt\n",
        "%matplotlib inline"
      ],
      "execution_count": 0,
      "outputs": []
    },
    {
      "cell_type": "markdown",
      "metadata": {
        "id": "jtIG7z0KKCxj",
        "colab_type": "text"
      },
      "source": [
        "# Dataset preparation"
      ]
    },
    {
      "cell_type": "markdown",
      "metadata": {
        "id": "B01BjK3PJj26",
        "colab_type": "text"
      },
      "source": [
        "Loading and analyzing the iris flowers dataset."
      ]
    },
    {
      "cell_type": "code",
      "metadata": {
        "id": "nf2O49DXI-TT",
        "colab_type": "code",
        "outputId": "c7f615b6-baac-4541-8c0f-171de054259e",
        "colab": {
          "base_uri": "https://localhost:8080/",
          "height": 206
        }
      },
      "source": [
        "dataset = pd.read_csv('https://raw.githubusercontent.com/Giffy/AI_Intro-to-Machine-Learning/master/Session-5/Datasets/dataset.csv.zip')\n",
        "dataset.head()"
      ],
      "execution_count": 22,
      "outputs": [
        {
          "output_type": "execute_result",
          "data": {
            "text/html": [
              "<div>\n",
              "<style scoped>\n",
              "    .dataframe tbody tr th:only-of-type {\n",
              "        vertical-align: middle;\n",
              "    }\n",
              "\n",
              "    .dataframe tbody tr th {\n",
              "        vertical-align: top;\n",
              "    }\n",
              "\n",
              "    .dataframe thead th {\n",
              "        text-align: right;\n",
              "    }\n",
              "</style>\n",
              "<table border=\"1\" class=\"dataframe\">\n",
              "  <thead>\n",
              "    <tr style=\"text-align: right;\">\n",
              "      <th></th>\n",
              "      <th>Item1</th>\n",
              "      <th>Item2</th>\n",
              "      <th>Item3</th>\n",
              "      <th>Item4</th>\n",
              "      <th>Item5</th>\n",
              "      <th>Item6</th>\n",
              "      <th>Item7</th>\n",
              "      <th>Item8</th>\n",
              "    </tr>\n",
              "  </thead>\n",
              "  <tbody>\n",
              "    <tr>\n",
              "      <th>0</th>\n",
              "      <td>2</td>\n",
              "      <td>4</td>\n",
              "      <td>18</td>\n",
              "      <td>24</td>\n",
              "      <td>7</td>\n",
              "      <td>4</td>\n",
              "      <td>93</td>\n",
              "      <td>77</td>\n",
              "    </tr>\n",
              "    <tr>\n",
              "      <th>1</th>\n",
              "      <td>4</td>\n",
              "      <td>1</td>\n",
              "      <td>3</td>\n",
              "      <td>1</td>\n",
              "      <td>5</td>\n",
              "      <td>4</td>\n",
              "      <td>9</td>\n",
              "      <td>4</td>\n",
              "    </tr>\n",
              "    <tr>\n",
              "      <th>2</th>\n",
              "      <td>0</td>\n",
              "      <td>1</td>\n",
              "      <td>4</td>\n",
              "      <td>2</td>\n",
              "      <td>0</td>\n",
              "      <td>5</td>\n",
              "      <td>2</td>\n",
              "      <td>6</td>\n",
              "    </tr>\n",
              "    <tr>\n",
              "      <th>3</th>\n",
              "      <td>0</td>\n",
              "      <td>0</td>\n",
              "      <td>0</td>\n",
              "      <td>0</td>\n",
              "      <td>0</td>\n",
              "      <td>0</td>\n",
              "      <td>0</td>\n",
              "      <td>0</td>\n",
              "    </tr>\n",
              "    <tr>\n",
              "      <th>4</th>\n",
              "      <td>19</td>\n",
              "      <td>10</td>\n",
              "      <td>19</td>\n",
              "      <td>13</td>\n",
              "      <td>50</td>\n",
              "      <td>57</td>\n",
              "      <td>45</td>\n",
              "      <td>58</td>\n",
              "    </tr>\n",
              "  </tbody>\n",
              "</table>\n",
              "</div>"
            ],
            "text/plain": [
              "   Item1  Item2  Item3  Item4  Item5  Item6  Item7  Item8\n",
              "0      2      4     18     24      7      4     93     77\n",
              "1      4      1      3      1      5      4      9      4\n",
              "2      0      1      4      2      0      5      2      6\n",
              "3      0      0      0      0      0      0      0      0\n",
              "4     19     10     19     13     50     57     45     58"
            ]
          },
          "metadata": {
            "tags": []
          },
          "execution_count": 22
        }
      ]
    },
    {
      "cell_type": "markdown",
      "metadata": {
        "id": "EsFc2AkhMPeX",
        "colab_type": "text"
      },
      "source": [
        "# Principal Component Analysis"
      ]
    },
    {
      "cell_type": "code",
      "metadata": {
        "id": "ybj3C8mxeglf",
        "colab_type": "code",
        "colab": {}
      },
      "source": [
        "# Your code Here"
      ],
      "execution_count": 0,
      "outputs": []
    },
    {
      "cell_type": "code",
      "metadata": {
        "id": "zxZ87N-kZiVe",
        "colab_type": "code",
        "colab": {}
      },
      "source": [
        ""
      ],
      "execution_count": 0,
      "outputs": []
    }
  ]
}